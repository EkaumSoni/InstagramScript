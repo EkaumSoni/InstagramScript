{
 "cells": [
  {
   "cell_type": "code",
   "execution_count": 7,
   "metadata": {},
   "outputs": [],
   "source": [
    "import pandas as pd\n",
    "import json"
   ]
  },
  {
   "cell_type": "code",
   "execution_count": 8,
   "metadata": {},
   "outputs": [],
   "source": [
    "with open('followers_1.json') as file:\n",
    "    followers_data = json.load(file)\n",
    "\n",
    "with open('following.json') as file:\n",
    "    following_data = json.load(file)"
   ]
  },
  {
   "cell_type": "code",
   "execution_count": 9,
   "metadata": {},
   "outputs": [],
   "source": [
    "followers = {follower['string_list_data'][0]['value'] for follower in followers_data if follower['string_list_data']}\n",
    "\n",
    "# Now that we've identified the correct key, let's extract the \"following\" usernames\n",
    "following_corrected = {item['string_list_data'][0]['value'] for item in following_data['relationships_following'] if item['string_list_data']}\n",
    "\n",
    "# Re-calculating the accounts not following back with the corrected \"following\" data\n",
    "not_following_back_corrected = following_corrected - followers"
   ]
  },
  {
   "cell_type": "code",
   "execution_count": 10,
   "metadata": {},
   "outputs": [
    {
     "data": {
      "text/plain": [
       "{'5oana',\n",
       " '_dejviii',\n",
       " '_kristenyee_',\n",
       " '_stevenmarquez',\n",
       " 'a.driani1',\n",
       " 'abdull4h.ch',\n",
       " 'alex.jhm',\n",
       " 'ameliegarciaaa',\n",
       " 'amoi.charles',\n",
       " 'anjeladermody',\n",
       " 'anthony_min',\n",
       " 'anusha_panjwani',\n",
       " 'b48_ghost',\n",
       " 'beyond_the_blue_podcast',\n",
       " 'carolina.vittoria',\n",
       " 'carolineeeperez',\n",
       " 'catherine_siounis',\n",
       " 'champainmonte',\n",
       " 'chanels_secret_life',\n",
       " 'chr1sguzman',\n",
       " 'clubgymnustics',\n",
       " 'conor.abramson',\n",
       " 'czacharakis',\n",
       " 'damien.chow',\n",
       " 'damoremckim',\n",
       " 'daniellabaker_',\n",
       " 'deanna_tsoumas',\n",
       " 'dylanakatz',\n",
       " 'elenitsevis',\n",
       " 'ellen.pando',\n",
       " 'ferretjoyride',\n",
       " 'gallo.natalie',\n",
       " 'georgechrisohoidis',\n",
       " 'greta.aaa__',\n",
       " 'huskystudentlife',\n",
       " 'iamdlyna',\n",
       " 'j.fenggg',\n",
       " 'james_morakis',\n",
       " 'jingstattoonyc',\n",
       " 'johannazawada',\n",
       " 'jpm______',\n",
       " 'juliannaamoises',\n",
       " 'justiin_liu',\n",
       " 'k3hnys',\n",
       " 'kamillex',\n",
       " 'kjnarchives',\n",
       " 'laurenwa1sh',\n",
       " 'letjoannainspireyou',\n",
       " 'llucianavidal',\n",
       " 'marinathalasinos',\n",
       " 'mark.higginss',\n",
       " 'matteo.giuliani98',\n",
       " 'matthew.liiiiii',\n",
       " 'mynuwanails',\n",
       " 'nanasnikos',\n",
       " 'nectariaaeleni',\n",
       " 'neu_numa',\n",
       " 'northeastern',\n",
       " 'northeastern_wib',\n",
       " 'northeasternfashion',\n",
       " 'northeasternhellenicsociety',\n",
       " 'nuwamarketing',\n",
       " 'paultodaro_',\n",
       " 'reachingmylimits',\n",
       " 'robert_plaschke_',\n",
       " 'rubenmichaelll',\n",
       " 'ryann.wong2',\n",
       " 'saintk3v',\n",
       " 'samanthadezago',\n",
       " 'sammcheungg',\n",
       " 'sofia.bruhwiler',\n",
       " 'tylervonbevern',\n",
       " 'vinny.natale',\n",
       " 'yanni_lagos'}"
      ]
     },
     "execution_count": 10,
     "metadata": {},
     "output_type": "execute_result"
    }
   ],
   "source": [
    "not_following_back_corrected"
   ]
  },
  {
   "cell_type": "code",
   "execution_count": 11,
   "metadata": {},
   "outputs": [
    {
     "name": "stdout",
     "output_type": "stream",
     "text": [
      "74\n"
     ]
    }
   ],
   "source": [
    "length = len(not_following_back_corrected)\n",
    "print(length)"
   ]
  },
  {
   "cell_type": "code",
   "execution_count": null,
   "metadata": {},
   "outputs": [],
   "source": []
  }
 ],
 "metadata": {
  "kernelspec": {
   "display_name": "base",
   "language": "python",
   "name": "python3"
  },
  "language_info": {
   "codemirror_mode": {
    "name": "ipython",
    "version": 3
   },
   "file_extension": ".py",
   "mimetype": "text/x-python",
   "name": "python",
   "nbconvert_exporter": "python",
   "pygments_lexer": "ipython3",
   "version": "3.9.7"
  }
 },
 "nbformat": 4,
 "nbformat_minor": 2
}
